{
 "cells": [
  {
   "cell_type": "code",
   "execution_count": 22,
   "id": "81355245-4a45-4ef4-bf46-197c5e0ba0bf",
   "metadata": {},
   "outputs": [
    {
     "name": "stdout",
     "output_type": "stream",
     "text": [
      "[('Jack Kallis', 25534), ('Ricky Ponting', 27483), ('Sachin Tendulkar', 34357), ('Virat Kohli', 24936)]\n"
     ]
    }
   ],
   "source": [
    "#Q1. Create a python program to sort the given list of tuples based on integer value using a\n",
    "#lambda function.\n",
    "\n",
    "data = [('Sachin Tendulkar', 34357), ('Ricky Ponting', 27483), ('Jack Kallis', 25534), ('Virat Kohli', 24936)]\n",
    "\n",
    "sorted_data = sorted(data, key=lambda s: s[0])'''change here 0/1'''\n",
    "\n",
    "print(sorted_data)"
   ]
  },
  {
   "cell_type": "code",
   "execution_count": 32,
   "id": "66ff58f6-0d4d-4309-905b-2110d8b20aad",
   "metadata": {},
   "outputs": [
    {
     "name": "stdout",
     "output_type": "stream",
     "text": [
      "{'Jack Kallis': 25534, 'Ricky Ponting': 27483, 'Sachin Tendulkar': 34357, 'Virat Kohli': 24936}\n"
     ]
    }
   ],
   "source": [
    "data = {'Sachin Tendulkar': 34357, 'Ricky Ponting': 27483, 'Jack Kallis': 25534, 'Virat Kohli': 24936}\n",
    "\n",
    "# Create a list of tuples from the dictionary items\n",
    "data_list = [(k, v) for k, v in data.items()]\n",
    "\n",
    "# Sort the list of tuples by the second element of each tuple (the value)\n",
    "sorted_data = sorted(data_list, key=lambda x: x[0])'''change here 0/1 '''\n",
    "\n",
    "# Convert the sorted list of tuples back to a dictionary\n",
    "sorted_data = dict(sorted_data)\n",
    "\n",
    "print(sorted_data)"
   ]
  },
  {
   "cell_type": "code",
   "execution_count": null,
   "id": "738fedba-90c7-4f24-ab45-f6a97a639400",
   "metadata": {},
   "outputs": [],
   "source": []
  }
 ],
 "metadata": {
  "kernelspec": {
   "display_name": "Python 3 (ipykernel)",
   "language": "python",
   "name": "python3"
  },
  "language_info": {
   "codemirror_mode": {
    "name": "ipython",
    "version": 3
   },
   "file_extension": ".py",
   "mimetype": "text/x-python",
   "name": "python",
   "nbconvert_exporter": "python",
   "pygments_lexer": "ipython3",
   "version": "3.10.8"
  }
 },
 "nbformat": 4,
 "nbformat_minor": 5
}
